{
 "cells": [
  {
   "attachments": {},
   "cell_type": "markdown",
   "metadata": {},
   "source": [
    "### Runge-Kutta 4th order method"
   ]
  },
  {
   "cell_type": "code",
   "execution_count": 56,
   "metadata": {},
   "outputs": [],
   "source": [
    "def rk4(f, t0, y0, h, a = 1):\n",
    "    from scipy.special import gamma\n",
    "    ha = (h**a)/gamma(1+a)\n",
    "    k1 = h*f(t0, y0)\n",
    "    k2 = h*f(t0 + ha/2, y0 + k1/2)\n",
    "    k3 = h*f(t0 + ha/2, y0 + k2/2)\n",
    "    k4 = h*f(t0 + ha, y0 + k3)\n",
    "    return y0 + (k1 + 2*k2 + 2*k3 + k4)/6"
   ]
  },
  {
   "cell_type": "code",
   "execution_count": 57,
   "metadata": {},
   "outputs": [
    {
     "name": "stdout",
     "output_type": "stream",
     "text": [
      "y1  =  0.0026668666933346665\n",
      "y2  =  0.02136009038153308\n",
      "y3  =  0.0724512003541295\n",
      "y4  =  0.17409018097333867\n",
      "y5  =  0.35025754914481283\n"
     ]
    }
   ],
   "source": [
    "f = lambda x, y : x**2 + y**2\n",
    "\n",
    "a = 1\n",
    "h = 0.2\n",
    "\n",
    "t0 = 0\n",
    "tf = 1\n",
    "\n",
    "y0 = 0\n",
    "\n",
    "for i in range(int((tf-t0)/h)):\n",
    "    y0 = rk4(f, t0, y0, h, a)\n",
    "    t0 += h\n",
    "    print(\"y{}\".format(i+1),\" = \" , y0)"
   ]
  },
  {
   "attachments": {},
   "cell_type": "markdown",
   "metadata": {},
   "source": [
    "### Fractional Differential Equations function"
   ]
  },
  {
   "cell_type": "code",
   "execution_count": 58,
   "metadata": {},
   "outputs": [],
   "source": [
    "def fc(tn, yn, h, a = 1):\n",
    "    from scipy.special import gamma\n",
    "    ha = (h**a)/gamma(1+a)\n",
    "    f = lambda i, j : i**2 + j**2/4\n",
    "    k1 = f(tn, yn)\n",
    "    k2 = f(tn + ha/2, yn + ha*k1/2)\n",
    "    k3 = f(tn + ha/2, yn + ha*k2/2)\n",
    "    k4 = f(tn + ha, yn + ha*k3)\n",
    "    return yn + ha*(k1 + 2*k2 + 2*k3 + k4)/6"
   ]
  },
  {
   "cell_type": "code",
   "execution_count": 60,
   "metadata": {},
   "outputs": [
    {
     "name": "stdout",
     "output_type": "stream",
     "text": [
      "y1  =  1.1904449050681192\n",
      "y2  =  1.5292092984623955\n",
      "y3  =  2.1658535391047278\n",
      "y4  =  3.4927619885818832\n",
      "y5  =  7.289977690711085\n"
     ]
    }
   ],
   "source": [
    "a = 0.5\n",
    "h = 0.2\n",
    "\n",
    "tn = 0\n",
    "tf = 1\n",
    "\n",
    "yn = 1\n",
    "\n",
    "for i in range(int((tf-tn)/h)):\n",
    "    yn = fc(tn, yn, h, a)\n",
    "    tn += h\n",
    "    print(\"y{}\".format(i+1),\" = \" , yn)"
   ]
  }
 ],
 "metadata": {
  "kernelspec": {
   "display_name": "base",
   "language": "python",
   "name": "python3"
  },
  "language_info": {
   "codemirror_mode": {
    "name": "ipython",
    "version": 3
   },
   "file_extension": ".py",
   "mimetype": "text/x-python",
   "name": "python",
   "nbconvert_exporter": "python",
   "pygments_lexer": "ipython3",
   "version": "3.8.15"
  },
  "orig_nbformat": 4,
  "vscode": {
   "interpreter": {
    "hash": "8375062d4779c9668d7c9db68bfac82ede37ec64c49be84c786acfbd36f2c831"
   }
  }
 },
 "nbformat": 4,
 "nbformat_minor": 2
}
